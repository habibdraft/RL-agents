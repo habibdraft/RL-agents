{
 "cells": [
  {
   "cell_type": "code",
   "execution_count": 1,
   "metadata": {},
   "outputs": [
    {
     "data": {
      "text/html": [
       "<style>.container { width:100% !important; }</style>"
      ],
      "text/plain": [
       "<IPython.core.display.HTML object>"
      ]
     },
     "metadata": {},
     "output_type": "display_data"
    }
   ],
   "source": [
    "from IPython.display import display, HTML\n",
    "display(HTML(\"<style>.container { width:100% !important; }</style>\"))"
   ]
  },
  {
   "cell_type": "code",
   "execution_count": 2,
   "metadata": {},
   "outputs": [],
   "source": [
    "import numpy as np\n",
    "import matplotlib.pyplot as plt\n",
    "import math\n",
    "import pandas as pd\n",
    "import torch\n",
    "import random\n",
    "\n",
    "import os\n",
    "os.environ['KMP_DUPLICATE_LIB_OK']='True'"
   ]
  },
  {
   "cell_type": "code",
   "execution_count": 3,
   "metadata": {},
   "outputs": [],
   "source": [
    "q_walk = np.zeros((7,7))\n",
    "r_walk = np.zeros((7, 7))\n",
    "r_walk[-1, -1] = 1"
   ]
  },
  {
   "cell_type": "code",
   "execution_count": 4,
   "metadata": {},
   "outputs": [],
   "source": [
    "done = False\n",
    "start = 4\n",
    "prob = 0.5\n",
    "\n",
    "for i in range(100):\n",
    "    done = False\n",
    "    start = 4\n",
    "    prob = 0.5\n",
    "    while not done:\n",
    "        rand = random.random()\n",
    "        if rand >= 0.5:\n",
    "            next_step = start + 1\n",
    "        else:\n",
    "            next_step = start - 1\n",
    "        if (next_step == -1) or (next_step == 7):\n",
    "            done = True\n",
    "            continue\n",
    "        q_walk[start, next_step] = q_walk[start, next_step] + r_walk[next_step, next_step] + 0.5*max(q_walk[next_step]) - q_walk[start, next_step]\n",
    "\n",
    "        start = next_step"
   ]
  },
  {
   "cell_type": "code",
   "execution_count": 5,
   "metadata": {},
   "outputs": [
    {
     "data": {
      "text/plain": [
       "array([[0.        , 0.04166667, 0.        , 0.        , 0.        ,\n",
       "        0.        , 0.        ],\n",
       "       [0.02083333, 0.        , 0.08333333, 0.        , 0.        ,\n",
       "        0.        , 0.        ],\n",
       "       [0.        , 0.04166667, 0.        , 0.16666667, 0.        ,\n",
       "        0.        , 0.        ],\n",
       "       [0.        , 0.        , 0.08333333, 0.        , 0.33333333,\n",
       "        0.        , 0.        ],\n",
       "       [0.        , 0.        , 0.        , 0.16666667, 0.        ,\n",
       "        0.66666667, 0.        ],\n",
       "       [0.        , 0.        , 0.        , 0.        , 0.33333333,\n",
       "        0.        , 1.33333333],\n",
       "       [0.        , 0.        , 0.        , 0.        , 0.        ,\n",
       "        0.66666667, 0.        ]])"
      ]
     },
     "execution_count": 5,
     "metadata": {},
     "output_type": "execute_result"
    }
   ],
   "source": [
    "q_walk"
   ]
  }
 ],
 "metadata": {
  "kernelspec": {
   "display_name": "Python 3",
   "language": "python",
   "name": "python3"
  },
  "language_info": {
   "codemirror_mode": {
    "name": "ipython",
    "version": 3
   },
   "file_extension": ".py",
   "mimetype": "text/x-python",
   "name": "python",
   "nbconvert_exporter": "python",
   "pygments_lexer": "ipython3",
   "version": "3.8.5"
  }
 },
 "nbformat": 4,
 "nbformat_minor": 4
}
