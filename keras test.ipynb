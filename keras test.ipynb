{
 "cells": [
  {
   "cell_type": "code",
   "execution_count": 1,
   "id": "29afe1e5",
   "metadata": {},
   "outputs": [],
   "source": [
    "import gymnasium as gym\n",
    "import math\n",
    "import random\n",
    "import matplotlib\n",
    "import matplotlib.pyplot as plt\n",
    "from collections import namedtuple, deque\n",
    "from itertools import count\n",
    "import numpy as np\n",
    "\n",
    "env = gym.make(\"CartPole-v1\")\n",
    "\n",
    "# set up matplotlib\n",
    "is_ipython = 'inline' in matplotlib.get_backend()\n",
    "if is_ipython:\n",
    "    from IPython import display\n",
    "\n",
    "plt.ion()\n",
    "\n",
    "import tensorflow as tf\n",
    "from tensorflow import keras\n",
    "from tensorflow.keras import layers"
   ]
  },
  {
   "cell_type": "code",
   "execution_count": null,
   "id": "45df73c0",
   "metadata": {},
   "outputs": [],
   "source": []
  },
  {
   "cell_type": "code",
   "execution_count": 10,
   "id": "6064a723",
   "metadata": {},
   "outputs": [],
   "source": [
    "n_observations = 4\n",
    "n_actions = 2\n",
    "n_hidden = 128\n",
    "\n",
    "\n",
    "def create_q_model():\n",
    "    observations = layers.Input(shape=(n_observations,))\n",
    "    hidden = layers.Dense(n_hidden, activation='relu')(observations)\n",
    "    action = layers.Dense(n_actions, activation='softmax')(hidden)\n",
    "    \n",
    "    return keras.Model(inputs=observations, outputs=action)\n",
    "\n",
    "policy_network = create_q_model()\n",
    "target_network = create_q_model()"
   ]
  },
  {
   "cell_type": "code",
   "execution_count": 16,
   "id": "2cff6d07",
   "metadata": {},
   "outputs": [
    {
     "data": {
      "text/plain": [
       "1"
      ]
     },
     "execution_count": 16,
     "metadata": {},
     "output_type": "execute_result"
    }
   ],
   "source": [
    "state = np.array(env.reset()[0])\n",
    "\n",
    "state_tensor = tf.convert_to_tensor(state)\n",
    "state_tensor = tf.expand_dims(state_tensor, 0)\n",
    "\n",
    "action_probs = policy_network(state_tensor, training=False)\n",
    "action = tf.argmax(action_probs[0]).numpy()"
   ]
  },
  {
   "cell_type": "code",
   "execution_count": 26,
   "id": "a9d0ce37",
   "metadata": {},
   "outputs": [],
   "source": [
    "action_history = []\n",
    "rewards_history = []\n",
    "state_history = []\n",
    "state_next_history = []\n",
    "done_history = []\n",
    "\n",
    "epsilon = 1.0 \n",
    "state = np.array(env.reset()[0])\n",
    "\n",
    "for timestep in range(10000):\n",
    "\n",
    "    if epsilon > np.random.rand(1)[0]:\n",
    "        action = np.random.choice(2)\n",
    "    else:\n",
    "        state_tensor = tf.convert_to_tensor(state)\n",
    "        state_tensor = tf.expand_dims(state_tensor, 0)\n",
    "        action_probs = policy_network(state_tensor, training=False)\n",
    "        action = tf.argmax(action_probs[0]).numpy()\n",
    "\n",
    "    epsilon -= epsilon*0.99\n",
    "    \n",
    "    state_next, reward, done, _, _= env.step(action)\n",
    "    \n",
    "    action_history.append(action)\n",
    "    rewards_history.append(reward)\n",
    "    state_history.append(state)\n",
    "    state_next_history.append(state_next)\n",
    "    done_history.append(done)\n",
    "        \n",
    "    state_next = np.array(state_next)\n",
    "    \n",
    "    state = state_next"
   ]
  },
  {
   "cell_type": "code",
   "execution_count": 27,
   "id": "07605698",
   "metadata": {},
   "outputs": [
    {
     "data": {
      "text/plain": [
       "array([1.7808305e+05, 1.7961718e+03, 5.2074351e+03, 3.4877911e+01],\n",
       "      dtype=float32)"
      ]
     },
     "execution_count": 27,
     "metadata": {},
     "output_type": "execute_result"
    }
   ],
   "source": [
    "state"
   ]
  },
  {
   "cell_type": "code",
   "execution_count": null,
   "id": "1e9bc632",
   "metadata": {},
   "outputs": [],
   "source": []
  },
  {
   "cell_type": "code",
   "execution_count": null,
   "id": "f47fb472",
   "metadata": {},
   "outputs": [],
   "source": []
  }
 ],
 "metadata": {
  "kernelspec": {
   "display_name": "Python 3 (ipykernel)",
   "language": "python",
   "name": "python3"
  },
  "language_info": {
   "codemirror_mode": {
    "name": "ipython",
    "version": 3
   },
   "file_extension": ".py",
   "mimetype": "text/x-python",
   "name": "python",
   "nbconvert_exporter": "python",
   "pygments_lexer": "ipython3",
   "version": "3.10.12"
  }
 },
 "nbformat": 4,
 "nbformat_minor": 5
}
