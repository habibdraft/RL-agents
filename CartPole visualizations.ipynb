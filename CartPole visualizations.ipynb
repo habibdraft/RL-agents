{
 "cells": [
  {
   "cell_type": "code",
   "execution_count": 53,
   "metadata": {},
   "outputs": [],
   "source": [
    "import gymnasium as gym\n",
    "import numpy as np\n",
    "import math\n",
    "import random\n",
    "import matplotlib\n",
    "import matplotlib.pyplot as plt\n",
    "from itertools import count\n",
    "import pandas as pd\n",
    "\n",
    "import tensorflow as tf\n",
    "from dqn import DQN, Transition, DataBuffer\n",
    "\n",
    "env = gym.make(\"CartPole-v1\")\n",
    "\n",
    "# set up matplotlib\n",
    "is_ipython = 'inline' in matplotlib.get_backend()\n",
    "if is_ipython:\n",
    "    from IPython import display\n",
    "\n",
    "plt.ion()"
   ]
  },
  {
   "cell_type": "code",
   "execution_count": 2,
   "metadata": {},
   "outputs": [],
   "source": [
    "state, info = env.reset()\n",
    "n_observations = len(state)\n",
    "n_actions = env.action_space.n"
   ]
  },
  {
   "cell_type": "code",
   "execution_count": 3,
   "metadata": {},
   "outputs": [],
   "source": [
    "#plot cartpole actions against states/other variables\n",
    "#where does this data come from? \n",
    "\n",
    "#run a random agent and see what it does\n",
    "#use a q-table to choose actions"
   ]
  },
  {
   "cell_type": "code",
   "execution_count": 14,
   "metadata": {},
   "outputs": [],
   "source": [
    "#agent class\n",
    "\n",
    "class Agent:\n",
    "    \n",
    "    \n",
    "    def __init__(self, states, actions):\n",
    "        self.q = {}\n",
    "        self.memory = []\n",
    "        self.actions = [a for a in range(actions)]\n",
    "        self.alpha = 0.8\n",
    "        self.epsilon = 0.9\n",
    "        self.epsilon_decay = 0.99\n",
    "        self.gamma = 0.7\n",
    "    \n",
    "    def update(self, state, action, reward, new_value):\n",
    "        current_q = self.q.get(state)[action] \n",
    "        if current_q == 0:\n",
    "            self.q[state][action] = reward\n",
    "        else:\n",
    "            self.set_q(state, action, current_q + self.alpha * (new_value - current_q))\n",
    "            \n",
    "    def learn(self, state, action, reward, state2, _):\n",
    "        max_q = max([self.q.get(state2)[a] for a in self.actions])\n",
    "        self.update(state, action, reward, reward + self.gamma * max_q)\n",
    "        \n",
    "    def batch_rows(self, state, state2, action):\n",
    "        self.memory.append([state, state2, action])\n",
    "        \n",
    "    def act(self, state):\n",
    "        action = random.choice(self.actions)\n",
    "            \n",
    "        return action"
   ]
  },
  {
   "cell_type": "code",
   "execution_count": 15,
   "metadata": {},
   "outputs": [],
   "source": [
    "n_actions = env.action_space.n\n",
    "state = env.reset()\n",
    "n_observations = len(state)\n",
    "\n",
    "agent = Agent(states=n_observations, actions=n_actions)\n",
    "\n",
    "episodes = 1\n",
    "total_steps = 0\n",
    "total_reward = 0\n",
    "\n",
    "for episode in range(episodes):\n",
    "    \n",
    "    state = env.reset()\n",
    "    reward = 0\n",
    "    steps = 0\n",
    "    done = False\n",
    "    \n",
    "    while not done:\n",
    "        action = agent.act(state) \n",
    "        next_state, reward, done, info, _ = env.step(action)\n",
    "        agent.batch_rows(state, next_state, action)\n",
    "        state = next_state\n",
    "        \n",
    "        steps += 1\n",
    "        total_reward += reward\n",
    "\n",
    "    total_steps += steps"
   ]
  },
  {
   "cell_type": "code",
   "execution_count": 62,
   "metadata": {},
   "outputs": [],
   "source": [
    "df = pd.DataFrame(agent.memory)[1:]\n",
    "df.rename(columns={0: 'state', 1: 'next_state', 2: 'action'}, inplace=True)\n",
    "df2 = pd.DataFrame(df['state'].to_list(), columns=['state_var1','state_var2', 'state_var3', 'state_var4'])\n",
    "df3 = pd.DataFrame(df['next_state'].to_list(), columns=['next_state_var1','next_state_var2', \n",
    "                                                        'next_state_var3', 'next_state_var4'])"
   ]
  },
  {
   "cell_type": "code",
   "execution_count": 70,
   "metadata": {},
   "outputs": [],
   "source": []
  },
  {
   "cell_type": "code",
   "execution_count": 71,
   "metadata": {},
   "outputs": [],
   "source": [
    "dfa = pd.concat([df2, df3, df.reset_index()['action']], axis=1)"
   ]
  },
  {
   "cell_type": "code",
   "execution_count": 75,
   "metadata": {},
   "outputs": [
    {
     "data": {
      "text/plain": [
       "<matplotlib.collections.PathCollection at 0x7f95e9566bb0>"
      ]
     },
     "execution_count": 75,
     "metadata": {},
     "output_type": "execute_result"
    },
    {
     "data": {
      "image/png": "[encoded data removed]",
      "text/plain": [
       "<Figure size 432x288 with 1 Axes>"
      ]
     },
     "metadata": {
      "needs_background": "light"
     },
     "output_type": "display_data"
    },
    {
     "data": {
      "image/png": "[encoded data removed]",
      "text/plain": [
       "<Figure size 432x288 with 1 Axes>"
      ]
     },
     "metadata": {
      "needs_background": "light"
     },
     "output_type": "display_data"
    },
    {
     "data": {
      "image/png": "[encoded data removed]",
      "text/plain": [
       "<Figure size 432x288 with 1 Axes>"
      ]
     },
     "metadata": {
      "needs_background": "light"
     },
     "output_type": "display_data"
    },
    {
     "data": {
      "image/png": "[encoded data removed]",
      "text/plain": [
       "<Figure size 432x288 with 1 Axes>"
      ]
     },
     "metadata": {
      "needs_background": "light"
     },
     "output_type": "display_data"
    }
   ],
   "source": [
    "plt.figure()\n",
    "plt.scatter(dfa['state_var1'], dfa['next_state_var1'])\n",
    "plt.figure()\n",
    "plt.scatter(dfa['state_var2'], dfa['next_state_var2'])\n",
    "plt.figure()\n",
    "plt.scatter(dfa['state_var3'], dfa['next_state_var3'])\n",
    "plt.figure()\n",
    "plt.scatter(dfa['state_var4'], dfa['next_state_var4'])"
   ]
  },
  {
   "cell_type": "code",
   "execution_count": null,
   "metadata": {},
   "outputs": [],
   "source": []
  }
 ],
 "metadata": {
  "kernelspec": {
   "display_name": "Python 3",
   "language": "python",
   "name": "python3"
  },
  "language_info": {
   "codemirror_mode": {
    "name": "ipython",
    "version": 3
   },
   "file_extension": ".py",
   "mimetype": "text/x-python",
   "name": "python",
   "nbconvert_exporter": "python",
   "pygments_lexer": "ipython3",
   "version": "3.8.5"
  }
 },
 "nbformat": 4,
 "nbformat_minor": 4
}
