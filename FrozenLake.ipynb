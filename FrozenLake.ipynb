{
 "cells": [
  {
   "cell_type": "code",
   "execution_count": 2,
   "metadata": {},
   "outputs": [
    {
     "name": "stdout",
     "output_type": "stream",
     "text": [
      "Collecting gym\n",
      "\u001b[?25l  Downloading https://files.pythonhosted.org/packages/77/48/c43b8a72b916cc70896aa431b0fc00d1481ae34e28dc55e2144f4c77916b/gym-0.17.1.tar.gz (1.6MB)\n",
      "\u001b[K    100% |████████████████████████████████| 1.6MB 17.7MB/s ta 0:00:01\n",
      "\u001b[?25hRequirement already satisfied: scipy in /home/ec2-user/anaconda3/envs/pytorch_p36/lib/python3.6/site-packages (from gym) (1.1.0)\n",
      "Requirement already satisfied: numpy>=1.10.4 in /home/ec2-user/anaconda3/envs/pytorch_p36/lib/python3.6/site-packages (from gym) (1.15.4)\n",
      "Requirement already satisfied: six in /home/ec2-user/anaconda3/envs/pytorch_p36/lib/python3.6/site-packages (from gym) (1.11.0)\n",
      "Collecting pyglet<=1.5.0,>=1.4.0 (from gym)\n",
      "\u001b[?25l  Downloading https://files.pythonhosted.org/packages/70/ca/20aee170afe6011e295e34b27ad7d7ccd795faba581dd3c6f7cec237f561/pyglet-1.5.0-py2.py3-none-any.whl (1.0MB)\n",
      "\u001b[K    100% |████████████████████████████████| 1.0MB 24.9MB/s ta 0:00:01\n",
      "\u001b[?25hCollecting cloudpickle<1.4.0,>=1.2.0 (from gym)\n",
      "  Downloading https://files.pythonhosted.org/packages/ea/0b/189cd3c19faf362ff2df5f301456c6cf8571ef6684644cfdfdbff293825c/cloudpickle-1.3.0-py2.py3-none-any.whl\n",
      "Collecting future (from pyglet<=1.5.0,>=1.4.0->gym)\n",
      "\u001b[?25l  Downloading https://files.pythonhosted.org/packages/45/0b/38b06fd9b92dc2b68d58b75f900e97884c45bedd2ff83203d933cf5851c9/future-0.18.2.tar.gz (829kB)\n",
      "\u001b[K    100% |████████████████████████████████| 829kB 28.6MB/s ta 0:00:01\n",
      "\u001b[?25hBuilding wheels for collected packages: gym, future\n",
      "  Running setup.py bdist_wheel for gym ... \u001b[?25ldone\n",
      "\u001b[?25h  Stored in directory: /home/ec2-user/.cache/pip/wheels/c0/84/61/523b92d88787ae29689b3cc08cf445d8d8186d7fbe1acbf87b\n",
      "  Running setup.py bdist_wheel for future ... \u001b[?25ldone\n",
      "\u001b[?25h  Stored in directory: /home/ec2-user/.cache/pip/wheels/8b/99/a0/81daf51dcd359a9377b110a8a886b3895921802d2fc1b2397e\n",
      "Successfully built gym future\n",
      "\u001b[31mfastai 1.0.60 requires nvidia-ml-py3, which is not installed.\u001b[0m\n",
      "Installing collected packages: future, pyglet, cloudpickle, gym\n",
      "  Found existing installation: cloudpickle 0.5.3\n",
      "    Uninstalling cloudpickle-0.5.3:\n",
      "      Successfully uninstalled cloudpickle-0.5.3\n",
      "Successfully installed cloudpickle-1.3.0 future-0.18.2 gym-0.17.1 pyglet-1.5.0\n",
      "\u001b[33mYou are using pip version 10.0.1, however version 20.1 is available.\n",
      "You should consider upgrading via the 'pip install --upgrade pip' command.\u001b[0m\n",
      "\n",
      "\u001b[41mS\u001b[0mFFF\n",
      "FHFH\n",
      "FFFH\n",
      "HFFG\n"
     ]
    }
   ],
   "source": [
    "import gym\n",
    "import random\n",
    "import agents\n",
    " \n",
    "env = gym.make(\"FrozenLake-v0\")\n",
    "env.reset()                    \n",
    "env.render()"
   ]
  },
  {
   "cell_type": "code",
   "execution_count": 6,
   "metadata": {},
   "outputs": [
    {
     "name": "stdout",
     "output_type": "stream",
     "text": [
      "Average timesteps taken: 7.473\n",
      "Average reward: 0.09403\n",
      "Total reward: 9403.0\n"
     ]
    }
   ],
   "source": [
    "agent = agents.QLearnAgent(actions=env.action_space.n)\n",
    "\n",
    "episodes = 100000\n",
    "totalSteps = 0\n",
    "totalReward = 0\n",
    "\n",
    "for episode in range(episodes):\n",
    "    \n",
    "    state = env.reset()\n",
    "    reward = 0\n",
    "    steps = 0\n",
    "    done = False\n",
    "    \n",
    "    while not done:\n",
    "        action = agent.act(state) \n",
    "        next_state, reward, done, info = env.step(action)\n",
    "        agent.learn(state, action, reward, next_state, _)\n",
    "        state = next_state\n",
    "        \n",
    "        steps += 1\n",
    "        totalReward += reward\n",
    "\n",
    "    totalSteps += steps\n",
    "print(\"Average timesteps taken: {}\".format(totalSteps/episodes))\n",
    "print(\"Average reward: {}\".format(totalReward/episodes))\n",
    "print(\"Total reward: {}\".format(totalReward))"
   ]
  },
  {
   "cell_type": "code",
   "execution_count": 7,
   "metadata": {},
   "outputs": [
    {
     "name": "stdout",
     "output_type": "stream",
     "text": [
      "Average timesteps taken: 7.46168\n",
      "Average reward: 0.07517\n",
      "Total reward: 7517.0\n"
     ]
    }
   ],
   "source": [
    "agent = agents.SarsaAgent(actions=env.action_space.n)\n",
    "\n",
    "episodes = 100000\n",
    "totalSteps = 0\n",
    "totalReward = 0\n",
    "\n",
    "for episode in range(episodes):\n",
    "    \n",
    "    state = env.reset()\n",
    "    reward = 0\n",
    "    steps = 0\n",
    "    done = False\n",
    "    \n",
    "    while not done:\n",
    "        \n",
    "        action = agent.act(state)\n",
    "        if agent.lastAction is not None:\n",
    "            agent.learn(agent.lastState, agent.lastAction, agent.lastReward, state, action)\n",
    "            \n",
    "        agent.lastAction = action\n",
    "        agent.lastState = state\n",
    "        \n",
    "        state, reward, done, info = env.step(action)\n",
    "        \n",
    "        agent.lastReward = reward\n",
    "        totalReward += reward\n",
    "\n",
    "        steps += 1\n",
    "    totalSteps += steps\n",
    "print(\"Average timesteps taken: {}\".format(totalSteps/episodes))\n",
    "print(\"Average reward: {}\".format(totalReward/episodes))\n",
    "print(\"Total reward: {}\".format(totalReward))"
   ]
  },
  {
   "cell_type": "code",
   "execution_count": null,
   "metadata": {},
   "outputs": [],
   "source": []
  }
 ],
 "metadata": {
  "kernelspec": {
   "display_name": "conda_pytorch_p36",
   "language": "python",
   "name": "conda_pytorch_p36"
  },
  "language_info": {
   "codemirror_mode": {
    "name": "ipython",
    "version": 3
   },
   "file_extension": ".py",
   "mimetype": "text/x-python",
   "name": "python",
   "nbconvert_exporter": "python",
   "pygments_lexer": "ipython3",
   "version": "3.6.5"
  }
 },
 "nbformat": 4,
 "nbformat_minor": 4
}
