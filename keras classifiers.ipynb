{
 "cells": [
  {
   "cell_type": "code",
   "execution_count": 10,
   "id": "a38ddad6",
   "metadata": {},
   "outputs": [],
   "source": [
    "import tensorflow as tf\n",
    "from tensorflow import keras\n",
    "import numpy as np\n",
    "import pandas as pd\n",
    "\n",
    "import gymnasium as gym\n",
    "import numpy as np\n",
    "from keras.models import Sequential\n",
    "from keras.layers import InputLayer\n",
    "from keras.layers import Dense\n",
    "\n",
    "import matplotlib.pyplot as plt"
   ]
  },
  {
   "cell_type": "code",
   "execution_count": 11,
   "id": "08956046",
   "metadata": {},
   "outputs": [
    {
     "ename": "SyntaxError",
     "evalue": "invalid syntax (3298449353.py, line 11)",
     "output_type": "error",
     "traceback": [
      "\u001b[1;36m  Cell \u001b[1;32mIn[11], line 11\u001b[1;36m\u001b[0m\n\u001b[1;33m    q_table[state, action] +=\u001b[0m\n\u001b[1;37m                              ^\u001b[0m\n\u001b[1;31mSyntaxError\u001b[0m\u001b[1;31m:\u001b[0m invalid syntax\n"
     ]
    }
   ],
   "source": [
    "for i in range(num_episodes):\n",
    "    state = env.reset()\n",
    "    eps *= eps_decay_factor\n",
    "    done = False\n",
    "    while not done:\n",
    "        if np.random.random() < eps or np.sum(q_table[state, :]) == 0:\n",
    "            action = np.random.randint(0, env.action_space.n)\n",
    "        else:\n",
    "            action = np.argmax(q_table[state, :])\n",
    "        new_state, reward, done, _ = env.step(action)\n",
    "        q_table[state, action] += \n",
    "          reward + \n",
    "            learning_rate * \n",
    "              (discount_factor * np.max(q_table[new_state, :]) - q_table[state, action])\n",
    "        state = new_state\n",
    "        \n",
    "for i in range(num_episodes):\n",
    "    state = env.reset()\n",
    "    eps *= eps_decay_factor\n",
    "    done = False\n",
    "    while not done:\n",
    "        if np.random.random() < eps:\n",
    "            action = np.random.randint(0, env.action_space.n)\n",
    "        else:\n",
    "            action = np.argmax(\n",
    "              model.predict(np.identity(env.observation_space.n)[state:state + 1]))\n",
    "        new_state, reward, done, _ = env.step(action)\n",
    "        target = reward + \n",
    "          discount_factor * \n",
    "            np.max(\n",
    "              model.predict(\n",
    "                np.identity(env.observation_space.n)[new_state:new_state + 1]))\n",
    "        target_vector = model.predict(\n",
    "          np.identity(env.observation_space.n)[state:state + 1])[0]\n",
    "        target_vector[action] = target\n",
    "        model.fit(\n",
    "          np.identity(env.observation_space.n)[state:state + 1], \n",
    "          target_vec.reshape(-1, env.action_space.n), \n",
    "          epochs=1, verbose=0)\n",
    "        state = new_state"
   ]
  },
  {
   "cell_type": "code",
   "execution_count": 33,
   "id": "796ebc68",
   "metadata": {},
   "outputs": [],
   "source": []
  },
  {
   "cell_type": "code",
   "execution_count": 65,
   "id": "ea72ad44",
   "metadata": {},
   "outputs": [],
   "source": [
    "import random\n",
    "\n",
    "class Agent:\n",
    "    def __init__(self, states, actions, epsilon=0.7, gamma=0.7, epsilon_decay=0.9):\n",
    "        self.actions = actions\n",
    "        self.states = states\n",
    "        self.epsilon = epsilon\n",
    "        self.gamma = gamma\n",
    "        self.epsilon_decay = epsilon_decay\n",
    "        \n",
    "        self.model = Sequential()\n",
    "        self.model.add(InputLayer(batch_input_shape=(1, env.observation_space.n)))\n",
    "        self.model.add(Dense(20, activation='relu'))\n",
    "        self.model.add(Dense(env.action_space.n, activation='linear'))\n",
    "        self.model.compile(loss='mse', optimizer='adam', metrics=['mae'])\n",
    "    \n",
    "    def act(self, state):\n",
    "        if random.random() < self.epsilon:\n",
    "            action = random.randint(0, env.action_space.n)\n",
    "        else:\n",
    "            action = np.argmax(self.model.predict(np.identity(env.observation_space.n)[state[0]:state[0]+1]))\n",
    "            self.epsilon = self.epsilon * self.epsilon_decay\n",
    "            \n",
    "        return action\n",
    "\n",
    "    def update(self, state, action, reward, next_state):\n",
    "        new_q = reward + self.gamma*np.max(self.model.predict(np.identity(env.observation_space.n)[next_state:next_state+1]))\n",
    "        next_state_vec = self.model.predict(np.identity(env.observation_space.n)[state[0]:state[0]+1][0])\n",
    "        next_state_vec[action] = new_q\n",
    "        self.model.fit(np.identity(env.observation_space.n)[state[0]:state[0]+1], next_state_vec.reshape(-1, self.actions), epochs=1)"
   ]
  },
  {
   "cell_type": "code",
   "execution_count": 31,
   "id": "3b48ec0d",
   "metadata": {},
   "outputs": [],
   "source": []
  },
  {
   "cell_type": "code",
   "execution_count": 67,
   "id": "e150eed0",
   "metadata": {},
   "outputs": [
    {
     "name": "stdout",
     "output_type": "stream",
     "text": [
      "1/1 [==============================] - 0s 25ms/step\n",
      "1/1 [==============================] - 0s 13ms/step\n"
     ]
    },
    {
     "ename": "InvalidArgumentError",
     "evalue": "Graph execution error:\n\nDetected at node 'sequential_14/dense_26/MatMul' defined at (most recent call last):\n    File \"C:\\Users\\Nazia.Habib\\Anaconda3\\envs\\dsa\\lib\\runpy.py\", line 196, in _run_module_as_main\n      return _run_code(code, main_globals, None,\n    File \"C:\\Users\\Nazia.Habib\\Anaconda3\\envs\\dsa\\lib\\runpy.py\", line 86, in _run_code\n      exec(code, run_globals)\n    File \"C:\\Users\\Nazia.Habib\\Anaconda3\\envs\\dsa\\lib\\site-packages\\ipykernel_launcher.py\", line 17, in <module>\n      app.launch_new_instance()\n    File \"C:\\Users\\Nazia.Habib\\Anaconda3\\envs\\dsa\\lib\\site-packages\\traitlets\\config\\application.py\", line 992, in launch_instance\n      app.start()\n    File \"C:\\Users\\Nazia.Habib\\Anaconda3\\envs\\dsa\\lib\\site-packages\\ipykernel\\kernelapp.py\", line 711, in start\n      self.io_loop.start()\n    File \"C:\\Users\\Nazia.Habib\\Anaconda3\\envs\\dsa\\lib\\site-packages\\tornado\\platform\\asyncio.py\", line 215, in start\n      self.asyncio_loop.run_forever()\n    File \"C:\\Users\\Nazia.Habib\\Anaconda3\\envs\\dsa\\lib\\asyncio\\base_events.py\", line 603, in run_forever\n      self._run_once()\n    File \"C:\\Users\\Nazia.Habib\\Anaconda3\\envs\\dsa\\lib\\asyncio\\base_events.py\", line 1909, in _run_once\n      handle._run()\n    File \"C:\\Users\\Nazia.Habib\\Anaconda3\\envs\\dsa\\lib\\asyncio\\events.py\", line 80, in _run\n      self._context.run(self._callback, *self._args)\n    File \"C:\\Users\\Nazia.Habib\\Anaconda3\\envs\\dsa\\lib\\site-packages\\ipykernel\\kernelbase.py\", line 510, in dispatch_queue\n      await self.process_one()\n    File \"C:\\Users\\Nazia.Habib\\Anaconda3\\envs\\dsa\\lib\\site-packages\\ipykernel\\kernelbase.py\", line 499, in process_one\n      await dispatch(*args)\n    File \"C:\\Users\\Nazia.Habib\\Anaconda3\\envs\\dsa\\lib\\site-packages\\ipykernel\\kernelbase.py\", line 406, in dispatch_shell\n      await result\n    File \"C:\\Users\\Nazia.Habib\\Anaconda3\\envs\\dsa\\lib\\site-packages\\ipykernel\\kernelbase.py\", line 729, in execute_request\n      reply_content = await reply_content\n    File \"C:\\Users\\Nazia.Habib\\Anaconda3\\envs\\dsa\\lib\\site-packages\\ipykernel\\ipkernel.py\", line 411, in do_execute\n      res = shell.run_cell(\n    File \"C:\\Users\\Nazia.Habib\\Anaconda3\\envs\\dsa\\lib\\site-packages\\ipykernel\\zmqshell.py\", line 531, in run_cell\n      return super().run_cell(*args, **kwargs)\n    File \"C:\\Users\\Nazia.Habib\\Anaconda3\\envs\\dsa\\lib\\site-packages\\IPython\\core\\interactiveshell.py\", line 2961, in run_cell\n      result = self._run_cell(\n    File \"C:\\Users\\Nazia.Habib\\Anaconda3\\envs\\dsa\\lib\\site-packages\\IPython\\core\\interactiveshell.py\", line 3016, in _run_cell\n      result = runner(coro)\n    File \"C:\\Users\\Nazia.Habib\\Anaconda3\\envs\\dsa\\lib\\site-packages\\IPython\\core\\async_helpers.py\", line 129, in _pseudo_sync_runner\n      coro.send(None)\n    File \"C:\\Users\\Nazia.Habib\\Anaconda3\\envs\\dsa\\lib\\site-packages\\IPython\\core\\interactiveshell.py\", line 3221, in run_cell_async\n      has_raised = await self.run_ast_nodes(code_ast.body, cell_name,\n    File \"C:\\Users\\Nazia.Habib\\Anaconda3\\envs\\dsa\\lib\\site-packages\\IPython\\core\\interactiveshell.py\", line 3400, in run_ast_nodes\n      if await self.run_code(code, result, async_=asy):\n    File \"C:\\Users\\Nazia.Habib\\Anaconda3\\envs\\dsa\\lib\\site-packages\\IPython\\core\\interactiveshell.py\", line 3460, in run_code\n      exec(code_obj, self.user_global_ns, self.user_ns)\n    File \"C:\\Users\\Nazia.Habib\\AppData\\Local\\Temp\\ipykernel_26412\\871306320.py\", line 21, in <module>\n      agent.update(state, action, reward, next_state)\n    File \"C:\\Users\\Nazia.Habib\\AppData\\Local\\Temp\\ipykernel_26412\\1554711801.py\", line 28, in update\n      next_state_vec = self.model.predict(np.identity(env.observation_space.n)[state[0]:state[0]+1][0])\n    File \"C:\\Users\\Nazia.Habib\\Anaconda3\\envs\\dsa\\lib\\site-packages\\keras\\utils\\traceback_utils.py\", line 65, in error_handler\n      return fn(*args, **kwargs)\n    File \"C:\\Users\\Nazia.Habib\\Anaconda3\\envs\\dsa\\lib\\site-packages\\keras\\engine\\training.py\", line 2382, in predict\n      tmp_batch_outputs = self.predict_function(iterator)\n    File \"C:\\Users\\Nazia.Habib\\Anaconda3\\envs\\dsa\\lib\\site-packages\\keras\\engine\\training.py\", line 2169, in predict_function\n      return step_function(self, iterator)\n    File \"C:\\Users\\Nazia.Habib\\Anaconda3\\envs\\dsa\\lib\\site-packages\\keras\\engine\\training.py\", line 2155, in step_function\n      outputs = model.distribute_strategy.run(run_step, args=(data,))\n    File \"C:\\Users\\Nazia.Habib\\Anaconda3\\envs\\dsa\\lib\\site-packages\\keras\\engine\\training.py\", line 2143, in run_step\n      outputs = model.predict_step(data)\n    File \"C:\\Users\\Nazia.Habib\\Anaconda3\\envs\\dsa\\lib\\site-packages\\keras\\engine\\training.py\", line 2111, in predict_step\n      return self(x, training=False)\n    File \"C:\\Users\\Nazia.Habib\\Anaconda3\\envs\\dsa\\lib\\site-packages\\keras\\utils\\traceback_utils.py\", line 65, in error_handler\n      return fn(*args, **kwargs)\n    File \"C:\\Users\\Nazia.Habib\\Anaconda3\\envs\\dsa\\lib\\site-packages\\keras\\engine\\training.py\", line 558, in __call__\n      return super().__call__(*args, **kwargs)\n    File \"C:\\Users\\Nazia.Habib\\Anaconda3\\envs\\dsa\\lib\\site-packages\\keras\\utils\\traceback_utils.py\", line 65, in error_handler\n      return fn(*args, **kwargs)\n    File \"C:\\Users\\Nazia.Habib\\Anaconda3\\envs\\dsa\\lib\\site-packages\\keras\\engine\\base_layer.py\", line 1145, in __call__\n      outputs = call_fn(inputs, *args, **kwargs)\n    File \"C:\\Users\\Nazia.Habib\\Anaconda3\\envs\\dsa\\lib\\site-packages\\keras\\utils\\traceback_utils.py\", line 96, in error_handler\n      return fn(*args, **kwargs)\n    File \"C:\\Users\\Nazia.Habib\\Anaconda3\\envs\\dsa\\lib\\site-packages\\keras\\engine\\sequential.py\", line 412, in call\n      return super().call(inputs, training=training, mask=mask)\n    File \"C:\\Users\\Nazia.Habib\\Anaconda3\\envs\\dsa\\lib\\site-packages\\keras\\engine\\functional.py\", line 512, in call\n      return self._run_internal_graph(inputs, training=training, mask=mask)\n    File \"C:\\Users\\Nazia.Habib\\Anaconda3\\envs\\dsa\\lib\\site-packages\\keras\\engine\\functional.py\", line 669, in _run_internal_graph\n      outputs = node.layer(*args, **kwargs)\n    File \"C:\\Users\\Nazia.Habib\\Anaconda3\\envs\\dsa\\lib\\site-packages\\keras\\utils\\traceback_utils.py\", line 65, in error_handler\n      return fn(*args, **kwargs)\n    File \"C:\\Users\\Nazia.Habib\\Anaconda3\\envs\\dsa\\lib\\site-packages\\keras\\engine\\base_layer.py\", line 1145, in __call__\n      outputs = call_fn(inputs, *args, **kwargs)\n    File \"C:\\Users\\Nazia.Habib\\Anaconda3\\envs\\dsa\\lib\\site-packages\\keras\\utils\\traceback_utils.py\", line 96, in error_handler\n      return fn(*args, **kwargs)\n    File \"C:\\Users\\Nazia.Habib\\Anaconda3\\envs\\dsa\\lib\\site-packages\\keras\\layers\\core\\dense.py\", line 241, in call\n      outputs = tf.matmul(a=inputs, b=self.kernel)\nNode: 'sequential_14/dense_26/MatMul'\nIn[0] ndims must be >= 2: 1\n\t [[{{node sequential_14/dense_26/MatMul}}]] [Op:__inference_predict_function_1775]",
     "output_type": "error",
     "traceback": [
      "\u001b[1;31m---------------------------------------------------------------------------\u001b[0m",
      "\u001b[1;31mInvalidArgumentError\u001b[0m                      Traceback (most recent call last)",
      "Cell \u001b[1;32mIn[67], line 21\u001b[0m\n\u001b[0;32m     19\u001b[0m action \u001b[38;5;241m=\u001b[39m agent\u001b[38;5;241m.\u001b[39mact(state) \n\u001b[0;32m     20\u001b[0m next_state, reward, done, truncated, _ \u001b[38;5;241m=\u001b[39m env\u001b[38;5;241m.\u001b[39mstep(action)\n\u001b[1;32m---> 21\u001b[0m \u001b[43magent\u001b[49m\u001b[38;5;241;43m.\u001b[39;49m\u001b[43mupdate\u001b[49m\u001b[43m(\u001b[49m\u001b[43mstate\u001b[49m\u001b[43m,\u001b[49m\u001b[43m \u001b[49m\u001b[43maction\u001b[49m\u001b[43m,\u001b[49m\u001b[43m \u001b[49m\u001b[43mreward\u001b[49m\u001b[43m,\u001b[49m\u001b[43m \u001b[49m\u001b[43mnext_state\u001b[49m\u001b[43m)\u001b[49m\n\u001b[0;32m     22\u001b[0m state \u001b[38;5;241m=\u001b[39m next_state\n\u001b[0;32m     24\u001b[0m steps \u001b[38;5;241m+\u001b[39m\u001b[38;5;241m=\u001b[39m \u001b[38;5;241m1\u001b[39m\n",
      "Cell \u001b[1;32mIn[65], line 28\u001b[0m, in \u001b[0;36mAgent.update\u001b[1;34m(self, state, action, reward, next_state)\u001b[0m\n\u001b[0;32m     26\u001b[0m \u001b[38;5;28;01mdef\u001b[39;00m \u001b[38;5;21mupdate\u001b[39m(\u001b[38;5;28mself\u001b[39m, state, action, reward, next_state):\n\u001b[0;32m     27\u001b[0m     new_q \u001b[38;5;241m=\u001b[39m reward \u001b[38;5;241m+\u001b[39m \u001b[38;5;28mself\u001b[39m\u001b[38;5;241m.\u001b[39mgamma\u001b[38;5;241m*\u001b[39mnp\u001b[38;5;241m.\u001b[39mmax(\u001b[38;5;28mself\u001b[39m\u001b[38;5;241m.\u001b[39mmodel\u001b[38;5;241m.\u001b[39mpredict(np\u001b[38;5;241m.\u001b[39midentity(env\u001b[38;5;241m.\u001b[39mobservation_space\u001b[38;5;241m.\u001b[39mn)[next_state:next_state\u001b[38;5;241m+\u001b[39m\u001b[38;5;241m1\u001b[39m]))\n\u001b[1;32m---> 28\u001b[0m     next_state_vec \u001b[38;5;241m=\u001b[39m \u001b[38;5;28;43mself\u001b[39;49m\u001b[38;5;241;43m.\u001b[39;49m\u001b[43mmodel\u001b[49m\u001b[38;5;241;43m.\u001b[39;49m\u001b[43mpredict\u001b[49m\u001b[43m(\u001b[49m\u001b[43mnp\u001b[49m\u001b[38;5;241;43m.\u001b[39;49m\u001b[43midentity\u001b[49m\u001b[43m(\u001b[49m\u001b[43menv\u001b[49m\u001b[38;5;241;43m.\u001b[39;49m\u001b[43mobservation_space\u001b[49m\u001b[38;5;241;43m.\u001b[39;49m\u001b[43mn\u001b[49m\u001b[43m)\u001b[49m\u001b[43m[\u001b[49m\u001b[43mstate\u001b[49m\u001b[43m[\u001b[49m\u001b[38;5;241;43m0\u001b[39;49m\u001b[43m]\u001b[49m\u001b[43m:\u001b[49m\u001b[43mstate\u001b[49m\u001b[43m[\u001b[49m\u001b[38;5;241;43m0\u001b[39;49m\u001b[43m]\u001b[49m\u001b[38;5;241;43m+\u001b[39;49m\u001b[38;5;241;43m1\u001b[39;49m\u001b[43m]\u001b[49m\u001b[43m[\u001b[49m\u001b[38;5;241;43m0\u001b[39;49m\u001b[43m]\u001b[49m\u001b[43m)\u001b[49m\n\u001b[0;32m     29\u001b[0m     next_state_vec[action] \u001b[38;5;241m=\u001b[39m new_q\n\u001b[0;32m     30\u001b[0m     \u001b[38;5;28mself\u001b[39m\u001b[38;5;241m.\u001b[39mmodel\u001b[38;5;241m.\u001b[39mfit(np\u001b[38;5;241m.\u001b[39midentity(env\u001b[38;5;241m.\u001b[39mobservation_space\u001b[38;5;241m.\u001b[39mn)[state[\u001b[38;5;241m0\u001b[39m]:state[\u001b[38;5;241m0\u001b[39m]\u001b[38;5;241m+\u001b[39m\u001b[38;5;241m1\u001b[39m], next_state_vec\u001b[38;5;241m.\u001b[39mreshape(\u001b[38;5;241m-\u001b[39m\u001b[38;5;241m1\u001b[39m, \u001b[38;5;28mself\u001b[39m\u001b[38;5;241m.\u001b[39mactions), epochs\u001b[38;5;241m=\u001b[39m\u001b[38;5;241m1\u001b[39m)\n",
      "File \u001b[1;32m~\\Anaconda3\\envs\\dsa\\lib\\site-packages\\keras\\utils\\traceback_utils.py:70\u001b[0m, in \u001b[0;36mfilter_traceback.<locals>.error_handler\u001b[1;34m(*args, **kwargs)\u001b[0m\n\u001b[0;32m     67\u001b[0m     filtered_tb \u001b[38;5;241m=\u001b[39m _process_traceback_frames(e\u001b[38;5;241m.\u001b[39m__traceback__)\n\u001b[0;32m     68\u001b[0m     \u001b[38;5;66;03m# To get the full stack trace, call:\u001b[39;00m\n\u001b[0;32m     69\u001b[0m     \u001b[38;5;66;03m# `tf.debugging.disable_traceback_filtering()`\u001b[39;00m\n\u001b[1;32m---> 70\u001b[0m     \u001b[38;5;28;01mraise\u001b[39;00m e\u001b[38;5;241m.\u001b[39mwith_traceback(filtered_tb) \u001b[38;5;28;01mfrom\u001b[39;00m \u001b[38;5;28mNone\u001b[39m\n\u001b[0;32m     71\u001b[0m \u001b[38;5;28;01mfinally\u001b[39;00m:\n\u001b[0;32m     72\u001b[0m     \u001b[38;5;28;01mdel\u001b[39;00m filtered_tb\n",
      "File \u001b[1;32m~\\Anaconda3\\envs\\dsa\\lib\\site-packages\\tensorflow\\python\\eager\\execute.py:52\u001b[0m, in \u001b[0;36mquick_execute\u001b[1;34m(op_name, num_outputs, inputs, attrs, ctx, name)\u001b[0m\n\u001b[0;32m     50\u001b[0m \u001b[38;5;28;01mtry\u001b[39;00m:\n\u001b[0;32m     51\u001b[0m   ctx\u001b[38;5;241m.\u001b[39mensure_initialized()\n\u001b[1;32m---> 52\u001b[0m   tensors \u001b[38;5;241m=\u001b[39m pywrap_tfe\u001b[38;5;241m.\u001b[39mTFE_Py_Execute(ctx\u001b[38;5;241m.\u001b[39m_handle, device_name, op_name,\n\u001b[0;32m     53\u001b[0m                                       inputs, attrs, num_outputs)\n\u001b[0;32m     54\u001b[0m \u001b[38;5;28;01mexcept\u001b[39;00m core\u001b[38;5;241m.\u001b[39m_NotOkStatusException \u001b[38;5;28;01mas\u001b[39;00m e:\n\u001b[0;32m     55\u001b[0m   \u001b[38;5;28;01mif\u001b[39;00m name \u001b[38;5;129;01mis\u001b[39;00m \u001b[38;5;129;01mnot\u001b[39;00m \u001b[38;5;28;01mNone\u001b[39;00m:\n",
      "\u001b[1;31mInvalidArgumentError\u001b[0m: Graph execution error:\n\nDetected at node 'sequential_14/dense_26/MatMul' defined at (most recent call last):\n    File \"C:\\Users\\Nazia.Habib\\Anaconda3\\envs\\dsa\\lib\\runpy.py\", line 196, in _run_module_as_main\n      return _run_code(code, main_globals, None,\n    File \"C:\\Users\\Nazia.Habib\\Anaconda3\\envs\\dsa\\lib\\runpy.py\", line 86, in _run_code\n      exec(code, run_globals)\n    File \"C:\\Users\\Nazia.Habib\\Anaconda3\\envs\\dsa\\lib\\site-packages\\ipykernel_launcher.py\", line 17, in <module>\n      app.launch_new_instance()\n    File \"C:\\Users\\Nazia.Habib\\Anaconda3\\envs\\dsa\\lib\\site-packages\\traitlets\\config\\application.py\", line 992, in launch_instance\n      app.start()\n    File \"C:\\Users\\Nazia.Habib\\Anaconda3\\envs\\dsa\\lib\\site-packages\\ipykernel\\kernelapp.py\", line 711, in start\n      self.io_loop.start()\n    File \"C:\\Users\\Nazia.Habib\\Anaconda3\\envs\\dsa\\lib\\site-packages\\tornado\\platform\\asyncio.py\", line 215, in start\n      self.asyncio_loop.run_forever()\n    File \"C:\\Users\\Nazia.Habib\\Anaconda3\\envs\\dsa\\lib\\asyncio\\base_events.py\", line 603, in run_forever\n      self._run_once()\n    File \"C:\\Users\\Nazia.Habib\\Anaconda3\\envs\\dsa\\lib\\asyncio\\base_events.py\", line 1909, in _run_once\n      handle._run()\n    File \"C:\\Users\\Nazia.Habib\\Anaconda3\\envs\\dsa\\lib\\asyncio\\events.py\", line 80, in _run\n      self._context.run(self._callback, *self._args)\n    File \"C:\\Users\\Nazia.Habib\\Anaconda3\\envs\\dsa\\lib\\site-packages\\ipykernel\\kernelbase.py\", line 510, in dispatch_queue\n      await self.process_one()\n    File \"C:\\Users\\Nazia.Habib\\Anaconda3\\envs\\dsa\\lib\\site-packages\\ipykernel\\kernelbase.py\", line 499, in process_one\n      await dispatch(*args)\n    File \"C:\\Users\\Nazia.Habib\\Anaconda3\\envs\\dsa\\lib\\site-packages\\ipykernel\\kernelbase.py\", line 406, in dispatch_shell\n      await result\n    File \"C:\\Users\\Nazia.Habib\\Anaconda3\\envs\\dsa\\lib\\site-packages\\ipykernel\\kernelbase.py\", line 729, in execute_request\n      reply_content = await reply_content\n    File \"C:\\Users\\Nazia.Habib\\Anaconda3\\envs\\dsa\\lib\\site-packages\\ipykernel\\ipkernel.py\", line 411, in do_execute\n      res = shell.run_cell(\n    File \"C:\\Users\\Nazia.Habib\\Anaconda3\\envs\\dsa\\lib\\site-packages\\ipykernel\\zmqshell.py\", line 531, in run_cell\n      return super().run_cell(*args, **kwargs)\n    File \"C:\\Users\\Nazia.Habib\\Anaconda3\\envs\\dsa\\lib\\site-packages\\IPython\\core\\interactiveshell.py\", line 2961, in run_cell\n      result = self._run_cell(\n    File \"C:\\Users\\Nazia.Habib\\Anaconda3\\envs\\dsa\\lib\\site-packages\\IPython\\core\\interactiveshell.py\", line 3016, in _run_cell\n      result = runner(coro)\n    File \"C:\\Users\\Nazia.Habib\\Anaconda3\\envs\\dsa\\lib\\site-packages\\IPython\\core\\async_helpers.py\", line 129, in _pseudo_sync_runner\n      coro.send(None)\n    File \"C:\\Users\\Nazia.Habib\\Anaconda3\\envs\\dsa\\lib\\site-packages\\IPython\\core\\interactiveshell.py\", line 3221, in run_cell_async\n      has_raised = await self.run_ast_nodes(code_ast.body, cell_name,\n    File \"C:\\Users\\Nazia.Habib\\Anaconda3\\envs\\dsa\\lib\\site-packages\\IPython\\core\\interactiveshell.py\", line 3400, in run_ast_nodes\n      if await self.run_code(code, result, async_=asy):\n    File \"C:\\Users\\Nazia.Habib\\Anaconda3\\envs\\dsa\\lib\\site-packages\\IPython\\core\\interactiveshell.py\", line 3460, in run_code\n      exec(code_obj, self.user_global_ns, self.user_ns)\n    File \"C:\\Users\\Nazia.Habib\\AppData\\Local\\Temp\\ipykernel_26412\\871306320.py\", line 21, in <module>\n      agent.update(state, action, reward, next_state)\n    File \"C:\\Users\\Nazia.Habib\\AppData\\Local\\Temp\\ipykernel_26412\\1554711801.py\", line 28, in update\n      next_state_vec = self.model.predict(np.identity(env.observation_space.n)[state[0]:state[0]+1][0])\n    File \"C:\\Users\\Nazia.Habib\\Anaconda3\\envs\\dsa\\lib\\site-packages\\keras\\utils\\traceback_utils.py\", line 65, in error_handler\n      return fn(*args, **kwargs)\n    File \"C:\\Users\\Nazia.Habib\\Anaconda3\\envs\\dsa\\lib\\site-packages\\keras\\engine\\training.py\", line 2382, in predict\n      tmp_batch_outputs = self.predict_function(iterator)\n    File \"C:\\Users\\Nazia.Habib\\Anaconda3\\envs\\dsa\\lib\\site-packages\\keras\\engine\\training.py\", line 2169, in predict_function\n      return step_function(self, iterator)\n    File \"C:\\Users\\Nazia.Habib\\Anaconda3\\envs\\dsa\\lib\\site-packages\\keras\\engine\\training.py\", line 2155, in step_function\n      outputs = model.distribute_strategy.run(run_step, args=(data,))\n    File \"C:\\Users\\Nazia.Habib\\Anaconda3\\envs\\dsa\\lib\\site-packages\\keras\\engine\\training.py\", line 2143, in run_step\n      outputs = model.predict_step(data)\n    File \"C:\\Users\\Nazia.Habib\\Anaconda3\\envs\\dsa\\lib\\site-packages\\keras\\engine\\training.py\", line 2111, in predict_step\n      return self(x, training=False)\n    File \"C:\\Users\\Nazia.Habib\\Anaconda3\\envs\\dsa\\lib\\site-packages\\keras\\utils\\traceback_utils.py\", line 65, in error_handler\n      return fn(*args, **kwargs)\n    File \"C:\\Users\\Nazia.Habib\\Anaconda3\\envs\\dsa\\lib\\site-packages\\keras\\engine\\training.py\", line 558, in __call__\n      return super().__call__(*args, **kwargs)\n    File \"C:\\Users\\Nazia.Habib\\Anaconda3\\envs\\dsa\\lib\\site-packages\\keras\\utils\\traceback_utils.py\", line 65, in error_handler\n      return fn(*args, **kwargs)\n    File \"C:\\Users\\Nazia.Habib\\Anaconda3\\envs\\dsa\\lib\\site-packages\\keras\\engine\\base_layer.py\", line 1145, in __call__\n      outputs = call_fn(inputs, *args, **kwargs)\n    File \"C:\\Users\\Nazia.Habib\\Anaconda3\\envs\\dsa\\lib\\site-packages\\keras\\utils\\traceback_utils.py\", line 96, in error_handler\n      return fn(*args, **kwargs)\n    File \"C:\\Users\\Nazia.Habib\\Anaconda3\\envs\\dsa\\lib\\site-packages\\keras\\engine\\sequential.py\", line 412, in call\n      return super().call(inputs, training=training, mask=mask)\n    File \"C:\\Users\\Nazia.Habib\\Anaconda3\\envs\\dsa\\lib\\site-packages\\keras\\engine\\functional.py\", line 512, in call\n      return self._run_internal_graph(inputs, training=training, mask=mask)\n    File \"C:\\Users\\Nazia.Habib\\Anaconda3\\envs\\dsa\\lib\\site-packages\\keras\\engine\\functional.py\", line 669, in _run_internal_graph\n      outputs = node.layer(*args, **kwargs)\n    File \"C:\\Users\\Nazia.Habib\\Anaconda3\\envs\\dsa\\lib\\site-packages\\keras\\utils\\traceback_utils.py\", line 65, in error_handler\n      return fn(*args, **kwargs)\n    File \"C:\\Users\\Nazia.Habib\\Anaconda3\\envs\\dsa\\lib\\site-packages\\keras\\engine\\base_layer.py\", line 1145, in __call__\n      outputs = call_fn(inputs, *args, **kwargs)\n    File \"C:\\Users\\Nazia.Habib\\Anaconda3\\envs\\dsa\\lib\\site-packages\\keras\\utils\\traceback_utils.py\", line 96, in error_handler\n      return fn(*args, **kwargs)\n    File \"C:\\Users\\Nazia.Habib\\Anaconda3\\envs\\dsa\\lib\\site-packages\\keras\\layers\\core\\dense.py\", line 241, in call\n      outputs = tf.matmul(a=inputs, b=self.kernel)\nNode: 'sequential_14/dense_26/MatMul'\nIn[0] ndims must be >= 2: 1\n\t [[{{node sequential_14/dense_26/MatMul}}]] [Op:__inference_predict_function_1775]"
     ]
    }
   ],
   "source": [
    "import gymnasium as gym\n",
    "#import agents\n",
    "\n",
    "env = gym.make('Taxi-v3')\n",
    "agent = Agent(states=env.observation_space.n, actions=env.action_space.n)\n",
    "\n",
    "episodes = 10000\n",
    "total_steps = 0\n",
    "total_reward = 0\n",
    "\n",
    "for episode in range(episodes):\n",
    "    \n",
    "    state = env.reset()\n",
    "    reward = 0\n",
    "    steps = 0\n",
    "    done = False\n",
    "    \n",
    "    while not done:\n",
    "        action = agent.act(state) \n",
    "        next_state, reward, done, truncated, _ = env.step(action)\n",
    "        agent.update(state, action, reward, next_state)\n",
    "        state = next_state\n",
    "        \n",
    "        steps += 1\n",
    "        total_reward += reward\n",
    "\n",
    "    total_steps += steps\n",
    "    \n",
    "print(\"Average timesteps taken: {}\".format(total_steps/episodes))\n",
    "print(\"Average reward: {}\".format(total_reward/episodes))\n",
    "print(\"Total reward: {}\".format(total_reward))"
   ]
  },
  {
   "cell_type": "code",
   "execution_count": 58,
   "id": "5db0c5c8",
   "metadata": {},
   "outputs": [
    {
     "name": "stdout",
     "output_type": "stream",
     "text": [
      "1/1 [==============================] - 0s 26ms/step\n"
     ]
    },
    {
     "data": {
      "text/plain": [
       "array([[-0.02726975, -0.04312754,  0.09129141, -0.01532543,  0.00911291,\n",
       "         0.02122563]], dtype=float32)"
      ]
     },
     "execution_count": 58,
     "metadata": {},
     "output_type": "execute_result"
    }
   ],
   "source": [
    "model.predict(np.identity(500)[3:4])"
   ]
  },
  {
   "cell_type": "code",
   "execution_count": 55,
   "id": "4ef29cb9",
   "metadata": {},
   "outputs": [],
   "source": [
    "model = Sequential()\n",
    "model.add(InputLayer(batch_input_shape=(1, env.observation_space.n)))\n",
    "model.add(Dense(20, activation='relu'))\n",
    "model.add(Dense(env.action_space.n, activation='linear'))\n",
    "model.compile(loss='mse', optimizer='adam', metrics=['mae'])"
   ]
  },
  {
   "cell_type": "code",
   "execution_count": 59,
   "id": "19ba0c69",
   "metadata": {},
   "outputs": [],
   "source": [
    "state = env.reset()"
   ]
  },
  {
   "cell_type": "code",
   "execution_count": 60,
   "id": "1cdda161",
   "metadata": {},
   "outputs": [
    {
     "data": {
      "text/plain": [
       "(366, {'prob': 1.0, 'action_mask': array([1, 1, 1, 0, 0, 0], dtype=int8)})"
      ]
     },
     "execution_count": 60,
     "metadata": {},
     "output_type": "execute_result"
    }
   ],
   "source": [
    "state"
   ]
  },
  {
   "cell_type": "code",
   "execution_count": null,
   "id": "eb510f15",
   "metadata": {},
   "outputs": [],
   "source": []
  },
  {
   "cell_type": "code",
   "execution_count": null,
   "id": "0b22a7b0",
   "metadata": {},
   "outputs": [],
   "source": []
  }
 ],
 "metadata": {
  "kernelspec": {
   "display_name": "Python 3 (ipykernel)",
   "language": "python",
   "name": "python3"
  },
  "language_info": {
   "codemirror_mode": {
    "name": "ipython",
    "version": 3
   },
   "file_extension": ".py",
   "mimetype": "text/x-python",
   "name": "python",
   "nbconvert_exporter": "python",
   "pygments_lexer": "ipython3",
   "version": "3.10.10"
  }
 },
 "nbformat": 4,
 "nbformat_minor": 5
}
