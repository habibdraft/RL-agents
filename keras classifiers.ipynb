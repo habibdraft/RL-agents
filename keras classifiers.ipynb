{
 "cells": [
  {
   "cell_type": "code",
   "execution_count": null,
   "id": "d40c791f",
   "metadata": {},
   "outputs": [],
   "source": []
  },
  {
   "cell_type": "code",
   "execution_count": null,
   "id": "a38ddad6",
   "metadata": {},
   "outputs": [],
   "source": [
    "import gymnasium as gym\n",
    "import numpy as np\n",
    "import math\n",
    "import random\n",
    "import matplotlib\n",
    "import matplotlib.pyplot as plt\n",
    "from itertools import count\n",
    "\n",
    "import tensorflow as tf\n",
    "from tensorflow import keras\n",
    "from tensorflow.keras import layers\n",
    "\n",
    "env = gym.make(\"CartPole-v1\")\n",
    "\n",
    "# set up matplotlib\n",
    "is_ipython = 'inline' in matplotlib.get_backend()\n",
    "if is_ipython:\n",
    "    from IPython import display\n",
    "\n",
    "plt.ion()"
   ]
  },
  {
   "cell_type": "code",
   "execution_count": null,
   "id": "796ebc68",
   "metadata": {},
   "outputs": [],
   "source": [
    "def DQN():\n",
    "    n_hidden = 128\n",
    "\n",
    "    inputs = layers.Input(shape=(n_observations,))\n",
    "    hidden = layers.Dense(n_hidden, activation='relu')(inputs)\n",
    "    outputs = layers.Dense(n_actions, activation='softmax')(hidden)\n",
    "\n",
    "    return keras.Model(inputs=inputs, outputs=outputs)"
   ]
  },
  {
   "cell_type": "code",
   "execution_count": null,
   "id": "08956046",
   "metadata": {},
   "outputs": [],
   "source": [
    "state, info = env.reset()\n",
    "n_observations = len(state)\n",
    "n_actions = env.action_space.n"
   ]
  },
  {
   "cell_type": "code",
   "execution_count": null,
   "id": "ea72ad44",
   "metadata": {},
   "outputs": [],
   "source": []
  },
  {
   "cell_type": "code",
   "execution_count": null,
   "id": "3b48ec0d",
   "metadata": {},
   "outputs": [],
   "source": [
    "batch_size = 32\n",
    "gamma = 0.99\n",
    "epsilon = 0.9\n",
    "epsilon_decay = 0.99\n",
    "learning_rate_adam = 1e-4\n",
    "\n",
    "optimizer = tf.keras.optimizers.Adam(learning_rate=learning_rate_adam, amsgrad=True)\n",
    "loss_function = keras.losses.Huber()\n",
    "\n",
    "model = DQN()\n",
    "memory = []\n",
    "\n",
    "while True:  \n",
    "    state = env.reset()[0]\n",
    "    print(state)\n",
    "    episode_reward = 0\n",
    "\n",
    "    for timestep in range(1, 1000):\n",
    "        if epsilon > np.random.rand():\n",
    "            action = np.random.choice(n_actions)\n",
    "        else:\n",
    "            state_tensor = tf.convert_to_tensor(state, dtype=tf.float32)\n",
    "            state_tensor = tf.expand_dims(state_tensor, 0)\n",
    "            action_probs = model(state_tensor, training=False)\n",
    "            action = tf.argmax(action_probs[0]).numpy()\n",
    "            print(action_probs[0], action)\n",
    "\n",
    "        epsilon = epsilon * epsilon_decay\n",
    "\n",
    "        next_state, reward, done, _, _ = env.step(action)\n",
    "        memory.append([state, next_state, action, reward, done])\n",
    "        state = np.array(next_state)\n",
    "\n",
    "        \n",
    "        if len(memory) >= batch_size:\n",
    "            \n",
    "            indices = np.random.choice(range(len(memory)), size=batch_size)\n",
    "            memory_sample = [memory[i] for i in indices]\n",
    "\n",
    "            state_memory = [mem[0] for mem in memory_sample]\n",
    "            next_state_memory = [mem[1] for mem in memory_sample]\n",
    "            action_memory = [mem[2] for mem in memory_sample]\n",
    "            reward_memory = [mem[3] for mem in memory_sample]\n",
    "            done_memory = [mem[4] for mem in memory_sample]\n",
    "\n",
    "            future_rewards = model.predict(np.array(next_state_memory))\n",
    "            updated_q_values = reward_memory + gamma * tf.reduce_max(\n",
    "                future_rewards, axis=1\n",
    "            )\n",
    "\n",
    "            masks = tf.one_hot(action_memory, n_actions)\n",
    "\n",
    "            with tf.GradientTape() as tape:\n",
    "                q_values = model(np.array(state_memory))\n",
    "\n",
    "                q_action = tf.reduce_sum(tf.multiply(q_values, masks), axis=1)\n",
    "                loss = loss_function(updated_q_values, q_action)\n",
    "\n",
    "            grads = tape.gradient(loss, model.trainable_variables)\n",
    "            optimizer.apply_gradients(zip(grads, model.trainable_variables))\n",
    "            memory = memory[10:]\n",
    "            print(len(memory))\n",
    "\n",
    "        episode_reward += reward    \n",
    "        \n",
    "        if done:\n",
    "            print(episode_reward, 'done')\n",
    "            break\n",
    "    "
   ]
  },
  {
   "cell_type": "code",
   "execution_count": null,
   "id": "67ea621a",
   "metadata": {},
   "outputs": [],
   "source": []
  },
  {
   "cell_type": "code",
   "execution_count": null,
   "id": "ea9f4adc",
   "metadata": {},
   "outputs": [],
   "source": []
  },
  {
   "cell_type": "code",
   "execution_count": null,
   "id": "ca56bdea",
   "metadata": {},
   "outputs": [],
   "source": []
  },
  {
   "cell_type": "code",
   "execution_count": null,
   "id": "07fe0f32",
   "metadata": {},
   "outputs": [],
   "source": []
  },
  {
   "cell_type": "code",
   "execution_count": null,
   "id": "1d1f4265",
   "metadata": {},
   "outputs": [],
   "source": []
  },
  {
   "cell_type": "code",
   "execution_count": null,
   "id": "5833e06c",
   "metadata": {},
   "outputs": [],
   "source": []
  },
  {
   "cell_type": "code",
   "execution_count": null,
   "id": "4bbee41e",
   "metadata": {},
   "outputs": [],
   "source": []
  },
  {
   "cell_type": "code",
   "execution_count": null,
   "id": "36d308e8",
   "metadata": {},
   "outputs": [],
   "source": []
  }
 ],
 "metadata": {
  "kernelspec": {
   "display_name": "Python 3 (ipykernel)",
   "language": "python",
   "name": "python3"
  },
  "language_info": {
   "codemirror_mode": {
    "name": "ipython",
    "version": 3
   },
   "file_extension": ".py",
   "mimetype": "text/x-python",
   "name": "python",
   "nbconvert_exporter": "python",
   "pygments_lexer": "ipython3",
   "version": "3.10.12"
  }
 },
 "nbformat": 4,
 "nbformat_minor": 5
}
