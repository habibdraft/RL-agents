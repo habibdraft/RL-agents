{
 "cells": [
  {
   "cell_type": "code",
   "execution_count": 1,
   "metadata": {},
   "outputs": [
    {
     "name": "stderr",
     "output_type": "stream",
     "text": [
      "[2019-12-01 16:23:46,474] Making new env: Taxi-v2\n",
      "/anaconda/lib/python3.6/site-packages/gym/envs/registration.py:17: PkgResourcesDeprecationWarning: Parameters to load are deprecated.  Call .resolve and .require separately.\n",
      "  result = entry_point.load(False)\n"
     ]
    },
    {
     "name": "stdout",
     "output_type": "stream",
     "text": [
      "Average timesteps taken: 39.3471\n",
      "Average reward: -20.2137\n",
      "Total reward: -202137\n"
     ]
    }
   ],
   "source": [
    "import gym\n",
    "import agents\n",
    "\n",
    "env = gym.make('Taxi-v2')\n",
    "agent = agents.QLearnAgent(states=env.observation_space.n, actions=env.action_space.n)\n",
    "\n",
    "episodes = 10000\n",
    "totalSteps = 0\n",
    "totalReward = 0\n",
    "\n",
    "for episode in range(episodes):\n",
    "    \n",
    "    state = env.reset()\n",
    "    reward = 0\n",
    "    steps = 0\n",
    "    done = False\n",
    "    \n",
    "    while not done:\n",
    "        action = agent.act(state) \n",
    "        next_state, reward, done, info = env.step(action)\n",
    "        agent.learn(state, action, reward, next_state, _)\n",
    "        state = next_state\n",
    "        \n",
    "        steps += 1\n",
    "        totalReward += reward\n",
    "\n",
    "    totalSteps += steps\n",
    "print(\"Average timesteps taken: {}\".format(totalSteps/episodes))\n",
    "print(\"Average reward: {}\".format(totalReward/episodes))\n",
    "print(\"Total reward: {}\".format(totalReward))"
   ]
  },
  {
   "cell_type": "code",
   "execution_count": null,
   "metadata": {},
   "outputs": [],
   "source": []
  },
  {
   "cell_type": "code",
   "execution_count": 3,
   "metadata": {},
   "outputs": [
    {
     "name": "stderr",
     "output_type": "stream",
     "text": [
      "[2019-12-01 16:24:48,580] Making new env: Taxi-v2\n",
      "/anaconda/lib/python3.6/site-packages/gym/envs/registration.py:17: PkgResourcesDeprecationWarning: Parameters to load are deprecated.  Call .resolve and .require separately.\n",
      "  result = entry_point.load(False)\n"
     ]
    },
    {
     "name": "stdout",
     "output_type": "stream",
     "text": [
      "Average timesteps taken: 39.5888\n",
      "Average reward: -20.7368\n",
      "Total reward: -207368\n"
     ]
    }
   ],
   "source": [
    "import gym\n",
    "import agents\n",
    "\n",
    "env = gym.make('Taxi-v2')\n",
    "agent = agents.SarsaAgent(states=env.observation_space.n, actions=env.action_space.n)\n",
    "\n",
    "episodes = 10000\n",
    "totalSteps = 0\n",
    "totalReward = 0\n",
    "\n",
    "for episode in range(episodes):\n",
    "    \n",
    "    state = env.reset()\n",
    "    reward = 0\n",
    "    steps = 0\n",
    "    done = False\n",
    "    \n",
    "    while not done:\n",
    "        \n",
    "        action = agent.act(state)\n",
    "        if agent.lastAction is not None:\n",
    "            agent.learn(agent.lastState, agent.lastAction, agent.lastReward, state, action)\n",
    "            \n",
    "        agent.lastAction = action\n",
    "        agent.lastState = state\n",
    "        \n",
    "        state, reward, done, info = env.step(action)\n",
    "        \n",
    "        agent.lastReward = reward\n",
    "        totalReward += reward\n",
    "\n",
    "        steps += 1\n",
    "    totalSteps += steps\n",
    "print(\"Average timesteps taken: {}\".format(totalSteps/episodes))\n",
    "print(\"Average reward: {}\".format(totalReward/episodes))\n",
    "print(\"Total reward: {}\".format(totalReward))"
   ]
  },
  {
   "cell_type": "code",
   "execution_count": null,
   "metadata": {},
   "outputs": [],
   "source": []
  },
  {
   "cell_type": "code",
   "execution_count": null,
   "metadata": {
    "collapsed": true
   },
   "outputs": [],
   "source": [
    "\n"
   ]
  },
  {
   "cell_type": "code",
   "execution_count": null,
   "metadata": {
    "collapsed": true
   },
   "outputs": [],
   "source": []
  }
 ],
 "metadata": {
  "kernelspec": {
   "display_name": "Python 3",
   "language": "python",
   "name": "python3"
  },
  "language_info": {
   "codemirror_mode": {
    "name": "ipython",
    "version": 3
   },
   "file_extension": ".py",
   "mimetype": "text/x-python",
   "name": "python",
   "nbconvert_exporter": "python",
   "pygments_lexer": "ipython3",
   "version": "3.6.8"
  }
 },
 "nbformat": 4,
 "nbformat_minor": 2
}
